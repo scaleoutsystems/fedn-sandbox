{
 "cells": [
  {
   "cell_type": "markdown",
   "id": "622f7047",
   "metadata": {},
   "source": [
    "## API Example\n",
    "\n",
    "This notebook provides an example of how to use the FEDn API to organize experiments and to analyze validation results. We will here run one training session (a collection of global rounds) using FedAvg, then retrive and visualize the results. For a complete list of implemented interfaces, please refer to the [FEDn APIs](https://fedn.readthedocs.io/en/latest/fedn.network.api.html#module-fedn.network.api.client).\n",
    "\n",
    "Before starting this tutorial, make sure you have a project running in FEDn Studio and have created the compute package and the initial model. If you're not sure how to do this, please follow the instructions in sections 1, 2, and 3 of the [quickstart guide](https://fedn.readthedocs.io/en/latest/quickstart.html)."
   ]
  },
  {
   "cell_type": "code",
   "execution_count": 6,
   "id": "743dfe47",
   "metadata": {},
   "outputs": [],
   "source": [
    "from fedn import APIClient\n",
    "import time\n",
    "import uuid\n",
    "import json\n",
    "import matplotlib.pyplot as plt\n",
    "import numpy as np\n",
    "import collections"
   ]
  },
  {
   "cell_type": "markdown",
   "id": "1046a4e5",
   "metadata": {},
   "source": [
    "We connect to the FEDn API service. In this example, we assume the project is hosted on the public FEDn Studio. You can find the CONTROLLER_HOST address in the project dashboard. \n",
    "\n",
    "NOTE: If you're using a local sandbox, the CONTROLLER_HOST will be \"localhost or 127.0.0.1 or your local node's IP address\" and the CONTROLLER_PORT will be 8092. \n",
    "\n",
    "Next, you'll need to generate an access token. To do this, go to the project page in FEDn Studio, click on \"Settings,\" then \"Generate token.\" Copy the access token from the Studio and paste it into the notebook. In case you need further details, have a look at the [Fedn ClientAPIs](https://fedn.readthedocs.io/en/latest/apiclient.html#).  "
   ]
  },
  {
   "cell_type": "code",
   "execution_count": 13,
   "id": "1061722d",
   "metadata": {},
   "outputs": [],
   "source": [
    "CONTROLLER_HOST = 'api-server' \n",
    "client = APIClient(CONTROLLER_HOST, port='8092')"
   ]
  },
  {
   "cell_type": "markdown",
   "id": "07f69f5f",
   "metadata": {},
   "source": [
    "Initialize FEDn with the compute package and seed model. Note that these files needs to be created separately. If you're not sure how to do this, please follow the instructions only in section 3 of the [quickstart guide](https://fedn.readthedocs.io/en/latest/quickstart.html#create-the-compute-package-and-seed-model)."
   ]
  },
  {
   "cell_type": "code",
   "execution_count": 14,
   "id": "5107f6f9",
   "metadata": {},
   "outputs": [
    {
     "name": "stdout",
     "output_type": "stream",
     "text": [
      "{'committed_at': 'Fri, 01 Nov 2024 13:11:27 GMT', 'id': '6724d37f3f626905df9590fa', 'key': 'models', 'model': '7103e093-5d6e-487b-b47a-13d68f2a07ab', 'parent_model': None, 'session_id': None}\n"
     ]
    }
   ],
   "source": [
    "client.set_active_package('package.tgz', 'numpyhelper')\n",
    "client.set_active_model('seed.npz')\n",
    "seed_model = client.get_active_model()\n",
    "print(seed_model)"
   ]
  },
  {
   "cell_type": "markdown",
   "id": "4e26c50b",
   "metadata": {},
   "source": [
    "Next we start a training session using FedAvg and wait until it has finished:"
   ]
  },
  {
   "cell_type": "code",
   "execution_count": 25,
   "id": "f0380d35",
   "metadata": {},
   "outputs": [],
   "source": [
    "session_id = \"experiment2\"\n",
    "\n",
    "session_config = {\n",
    "                    \"helper\": \"numpyhelper\",\n",
    "                    \"id\": session_id,\n",
    "                    \"aggregator\": \"fedavg\",\n",
    "                    \"model_id\": seed_model['model'],\n",
    "                    \"rounds\": 10\n",
    "                 }\n",
    "\n",
    "result_fedavg = client.start_session(**session_config)\n",
    "\n",
    "# We wait for the session to finish\n",
    "while not client.session_is_finished(session_config['id']):\n",
    "    time.sleep(2)"
   ]
  },
  {
   "cell_type": "markdown",
   "id": "16874cec",
   "metadata": {},
   "source": [
    "Next, we get the model trail, retrieve all model validations from all clients, extract the training accuracy metric, and compute its mean value accross all clients."
   ]
  },
  {
   "cell_type": "code",
   "execution_count": 24,
   "id": "4e8044b7",
   "metadata": {},
   "outputs": [],
   "source": [
    "models = client.get_model_trail()\n",
    "\n",
    "acc = []\n",
    "for model in models:\n",
    "    \n",
    "    model_id = model[\"model\"]\n",
    "    validations = client.get_validations(model_id=model_id)\n",
    "\n",
    "    a = []\n",
    "    for validation in validations['result']: \n",
    "        metrics = json.loads(validation['data'])\n",
    "        a.append(metrics['training_accuracy'])\n",
    "        \n",
    "    acc.append(a)\n",
    "\n",
    "mean_acc = [np.mean(x) for x in acc]"
   ]
  },
  {
   "cell_type": "code",
   "execution_count": 23,
   "id": "42425c43",
   "metadata": {},
   "outputs": [
    {
     "data": {
      "text/plain": [
       "<matplotlib.legend.Legend at 0x7bf380010c10>"
      ]
     },
     "execution_count": 23,
     "metadata": {},
     "output_type": "execute_result"
    },
    {
     "data": {
      "image/png": "[encoded data removed]",
      "text/plain": [
       "<Figure size 640x480 with 1 Axes>"
      ]
     },
     "metadata": {},
     "output_type": "display_data"
    }
   ],
   "source": [
    "x = range(1,len(mean_acc)+1)\n",
    "plt.plot(x, mean_acc)\n",
    "plt.legend(['Training Accuracy (FedAvg)'])"
   ]
  },
  {
   "cell_type": "code",
   "execution_count": null,
   "id": "0dc68dbb-bf2c-4631-95d7-4eda4de823ea",
   "metadata": {},
   "outputs": [],
   "source": []
  }
 ],
 "metadata": {
  "kernelspec": {
   "display_name": "Python 3 (ipykernel)",
   "language": "python",
   "name": "python3"
  },
  "language_info": {
   "codemirror_mode": {
    "name": "ipython",
    "version": 3
   },
   "file_extension": ".py",
   "mimetype": "text/x-python",
   "name": "python",
   "nbconvert_exporter": "python",
   "pygments_lexer": "ipython3",
   "version": "3.10.12"
  }
 },
 "nbformat": 4,
 "nbformat_minor": 5
}
